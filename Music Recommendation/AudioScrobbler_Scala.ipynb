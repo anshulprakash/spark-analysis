{
 "cells": [
  {
   "cell_type": "markdown",
   "metadata": {},
   "source": [
    "# Recommending Music using the AudioScrobbler Dataset"
   ]
  },
  {
   "cell_type": "markdown",
   "metadata": {},
   "source": [
    "To build a recommendation system using Spark and MLib using a dataset published by AudioScrobbler. This data is 500MB uncompressed and can be downloaded here- http://www-etud.iro.umontreal.ca/%7Ebergstrj/audioscrobbler_data.html"
   ]
  },
  {
   "cell_type": "markdown",
   "metadata": {},
   "source": [
    "This is based on an exercise in the awesome book [Advanced Analytics with Spark](http://shop.oreilly.com/product/0636920035091.do). This is not intended to be a production ready application but instead a learning exercise. Chapter 3 of the book, entitled Recommending Music and the Audioscrobbler Data Set introduces readers to a recommendation algorithm Spark supplies called The Alternating Least Squares Recommender Algorithm."
   ]
  },
  {
   "cell_type": "markdown",
   "metadata": {},
   "source": [
    "## Technology Stack:"
   ]
  },
  {
   "cell_type": "markdown",
   "metadata": {},
   "source": [
    "* Spark MLlib\n",
    "* Scala"
   ]
  },
  {
   "cell_type": "markdown",
   "metadata": {},
   "source": [
    "## Preparing Data"
   ]
  },
  {
   "cell_type": "markdown",
   "metadata": {},
   "source": [
    "### Importing Data"
   ]
  },
  {
   "cell_type": "code",
   "execution_count": 1,
   "metadata": {
    "collapsed": true
   },
   "outputs": [],
   "source": [
    "val uadatapath=\"hdfs:///user/swethakolalapudi/audio/user_artist_data.txt\"\n",
    "val rawUserArtistData = sc.textFile(uadatapath)"
   ]
  },
  {
   "cell_type": "markdown",
   "metadata": {},
   "source": [
    "Each line of the file contains a user ID, an artist ID, and a play count, separated by spaces. To compute statistics on the play count, we split the line by space, and the third (0-indexed) value is parsed as a number. The stats() method returns an object containing statistics like maximum and minimum."
   ]
  },
  {
   "cell_type": "code",
   "execution_count": 9,
   "metadata": {},
   "outputs": [
    {
     "data": {
      "text/plain": [
       "(count: 24296858, mean: 15.295762, stdev: 153.915321, max: 439771.000000, min: 1.000000)"
      ]
     },
     "execution_count": 9,
     "metadata": {},
     "output_type": "execute_result"
    }
   ],
   "source": [
    "rawUserArtistData.map(x => x.split(\" \")(2).toDouble).stats()"
   ]
  },
  {
   "cell_type": "markdown",
   "metadata": {},
   "source": [
    "The computed statistics that are printed reveal that the maximum play count is 439771 and mean is around 15. Total number of entries are around 24 million. The maximum play count could be an outlier."
   ]
  },
  {
   "cell_type": "code",
   "execution_count": 2,
   "metadata": {
    "collapsed": true
   },
   "outputs": [],
   "source": [
    "import org.apache.spark.mllib.recommendation._"
   ]
  },
  {
   "cell_type": "markdown",
   "metadata": {},
   "source": [
    "Some of the ratings may be just noise as the user may have listened to an artist a few times to give it a try. So, I will filter the ratings to include only very strong ratings. This will also help to reduce the number of records as ALS is very expensive computation wise."
   ]
  },
  {
   "cell_type": "markdown",
   "metadata": {},
   "source": [
    "Creating an RDD of rating objects by filtering out ratings which are below 20. As this RDD may be used a number of times by ALS it is better to persist it."
   ]
  },
  {
   "cell_type": "code",
   "execution_count": 4,
   "metadata": {},
   "outputs": [
    {
     "data": {
      "text/plain": [
       "MapPartitionsRDD[5] at map at <console>:27"
      ]
     },
     "execution_count": 4,
     "metadata": {},
     "output_type": "execute_result"
    }
   ],
   "source": [
    "val uaData=rawUserArtistData.map(_.split(\" \")).filter(_(2).toInt>=20).map(x => Rating(x(0).toInt,x(1).toInt,x(2).toInt))\n",
    "uaData.persist()"
   ]
  },
  {
   "cell_type": "markdown",
   "metadata": {},
   "source": [
    "## Training"
   ]
  },
  {
   "cell_type": "markdown",
   "metadata": {},
   "source": [
    "ALS has two methods: train and trainImplicit. SInce, our ratings are implicit, I use trainImplicit method."
   ]
  },
  {
   "cell_type": "code",
   "execution_count": 6,
   "metadata": {
    "collapsed": true
   },
   "outputs": [],
   "source": [
    "val model=ALS.trainImplicit(uaData,10,5,0.01,1)\n",
    "// 10 is the number of hidden factors that ALS should look for\n",
    "// 5 is the max number of iterations ALS should go through\n",
    "// lambda and alpha are set to 0.01 and 1"
   ]
  },
  {
   "cell_type": "markdown",
   "metadata": {},
   "source": [
    "The model RDD returned by ALS has a recommendedProducts method. This method has input parameters as the user id and the number of recommedations needed for that user id."
   ]
  },
  {
   "cell_type": "markdown",
   "metadata": {},
   "source": [
    "## Getting Recommendations for a user id"
   ]
  },
  {
   "cell_type": "code",
   "execution_count": 14,
   "metadata": {
    "collapsed": true
   },
   "outputs": [],
   "source": [
    "var user: Int=1000002\n",
    "var recommendations=model.recommendProducts(user,5)"
   ]
  },
  {
   "cell_type": "code",
   "execution_count": null,
   "metadata": {
    "collapsed": true
   },
   "outputs": [],
   "source": [
    "recommendations is an RDD of Rating objects."
   ]
  },
  {
   "cell_type": "code",
   "execution_count": 8,
   "metadata": {},
   "outputs": [
    {
     "data": {
      "text/plain": [
       "Array(Rating(1000002,1270,1.185725442054678), Rating(1000002,1000188,1.1677245029656391), Rating(1000002,1205,1.1586795057541834), Rating(1000002,1428,1.1576052790420486), Rating(1000002,82,1.1389863112439214))"
      ]
     },
     "execution_count": 8,
     "metadata": {},
     "output_type": "execute_result"
    }
   ],
   "source": [
    "recommendations"
   ]
  },
  {
   "cell_type": "markdown",
   "metadata": {},
   "source": [
    "## Evaluating the recommendations made"
   ]
  },
  {
   "cell_type": "markdown",
   "metadata": {},
   "source": [
    "Importing the file artist_data.txt to create a lookup for getting names of artist using artist id."
   ]
  },
  {
   "cell_type": "code",
   "execution_count": 24,
   "metadata": {},
   "outputs": [
    {
     "data": {
      "text/plain": [
       "MapPartitionsRDD[167] at map at <console>:25"
      ]
     },
     "execution_count": 24,
     "metadata": {},
     "output_type": "execute_result"
    }
   ],
   "source": [
    "val artistsPath=\"hdfs:///user/swethakolalapudi/audio/artist_data.txt\"\n",
    "// We need to make sure that array has 2 elements\n",
    "val artistLookup=sc.textFile(artistsPath).map(_.split(\"\\t\")).filter(_.length==2).map(x => (x(0),x(1)))\n",
    "artistLookup.persist()"
   ]
  },
  {
   "cell_type": "markdown",
   "metadata": {},
   "source": [
    "Getting the artist ids with ratings greater than 50 for the user id."
   ]
  },
  {
   "cell_type": "code",
   "execution_count": 19,
   "metadata": {
    "collapsed": true
   },
   "outputs": [],
   "source": [
    "val userArtists=rawUserArtistData.map(_.split(\" \")).filter{case Array(userId,_,rating) => (userId.toInt == user) && (rating.toInt>50)}.map(_(1)).collect()"
   ]
  },
  {
   "cell_type": "markdown",
   "metadata": {},
   "source": [
    "Printing list of artists the user already prefers."
   ]
  },
  {
   "cell_type": "code",
   "execution_count": 27,
   "metadata": {},
   "outputs": [
    {
     "name": "stdout",
     "output_type": "stream",
     "text": [
      "Portishead\n",
      "A Perfect Circle\n",
      "Aerosmith\n",
      "Judas Priest\n",
      "Metallica\n",
      "Foo Fighters\n",
      "Counting Crows\n",
      "Creed\n",
      "Audioslave\n",
      "Muse\n",
      "(hed) Planet Earth\n",
      "Dire Straits\n",
      "Free\n",
      "Fun Lovin' Criminals\n",
      "Guns N' Roses\n",
      "Satriani, Joe\n",
      "A\n",
      "Joe Satriani\n",
      "Bruce Springsteen\n",
      "Goo Goo Dolls\n",
      "Fugees\n",
      "Michael Jackson\n",
      "Roachford\n",
      "Barenaked Ladies\n",
      "Buckcherry\n",
      "Jools Holland\n",
      "The Classic Chill Out Album\n",
      "Frankie Goes To Hollywood\n",
      "King's X\n",
      "Mr. Big\n",
      "Dave Weckl\n",
      "Dan Reed Network\n",
      "Liquid Tension Experiment\n",
      "Level 42\n",
      "Rage Against the Machine\n",
      "Badly Drawn Boy\n",
      "Beth Orton\n",
      "Dido\n",
      "Lenny Kravitz\n",
      "Everclear\n",
      "Feeder\n",
      "Jimi Hendrix\n",
      "Red Hot Chili Peppers\n",
      "R.E.M.\n",
      "Desert Sessions\n",
      "The Kleptones\n",
      "Jamiroquai\n",
      "Led Zeppelin\n",
      "Marcus Miller\n",
      "Moby\n",
      "Miles Davis\n",
      "Electric Wizard\n",
      "Matchbox Twenty\n",
      "The Police\n",
      "Nina Simone\n",
      "Jeff Buckley\n",
      "Dream Theater\n",
      "Eels\n",
      "Nickelback\n",
      "Diana Krall\n",
      "The Jimi Hendrix Experience\n",
      "Pink\n",
      "Rammstein\n",
      "Norah Jones\n",
      "Ben Folds Five\n",
      "Radiohead\n"
     ]
    }
   ],
   "source": [
    "for (artist <- userArtists){\n",
    "     println( artistLookup.lookup(artist)(0))}"
   ]
  },
  {
   "cell_type": "markdown",
   "metadata": {},
   "source": [
    "The user seems to have a preference for Rock music."
   ]
  },
  {
   "cell_type": "code",
   "execution_count": 28,
   "metadata": {},
   "outputs": [
    {
     "name": "stdout",
     "output_type": "stream",
     "text": [
      "Queen\n",
      "Dire Straits\n",
      "U2\n",
      "Eric Clapton\n",
      "Pink Floyd\n"
     ]
    }
   ],
   "source": [
    "for (rating <- recommendations){\n",
    "     println( artistLookup.lookup(rating.product.toString)(0))}"
   ]
  },
  {
   "cell_type": "markdown",
   "metadata": {
    "collapsed": true
   },
   "source": [
    "Artists recommended also seem to be of Rock genre. Hence, the recommendations are upto the mark."
   ]
  }
 ],
 "metadata": {
  "kernelspec": {
   "display_name": "Apache Toree - Scala",
   "language": "scala",
   "name": "apache_toree_scala"
  },
  "language_info": {
   "name": "scala",
   "version": "2.10.4"
  }
 },
 "nbformat": 4,
 "nbformat_minor": 1
}

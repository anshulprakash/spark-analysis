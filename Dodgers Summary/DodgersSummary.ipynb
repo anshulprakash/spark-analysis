{
 "cells": [
  {
   "cell_type": "code",
   "execution_count": 1,
   "metadata": {},
   "outputs": [
    {
     "data": {
      "text/html": [
       "\n",
       "        <div>\n",
       "            <p><b>SparkContext</b></p>\n",
       "\n",
       "            <p><a href=\"http://192.168.56.1:4040\">Spark UI</a></p>\n",
       "\n",
       "            <dl>\n",
       "              <dt>Version</dt>\n",
       "                <dd><code>v2.2.0</code></dd>\n",
       "              <dt>Master</dt>\n",
       "                <dd><code>local[2]</code></dd>\n",
       "              <dt>AppName</dt>\n",
       "                <dd><code>PySparkShell</code></dd>\n",
       "            </dl>\n",
       "        </div>\n",
       "        "
      ],
      "text/plain": [
       "<SparkContext master=local[2] appName=PySparkShell>"
      ]
     },
     "execution_count": 1,
     "metadata": {},
     "output_type": "execute_result"
    }
   ],
   "source": [
    "sc"
   ]
  },
  {
   "cell_type": "code",
   "execution_count": 2,
   "metadata": {
    "collapsed": true
   },
   "outputs": [],
   "source": [
    "trafficpath = \"C:\\\\Users\\\\Anshul\\\\Documents\\\\Pluralsight\\\\Spark\\\\Dodgers.data\"\n",
    "gamespath = \"C:\\\\Users\\\\Anshul\\\\Documents\\\\Pluralsight\\\\Spark\\\\Dodgers.events\""
   ]
  },
  {
   "cell_type": "code",
   "execution_count": 3,
   "metadata": {
    "collapsed": true
   },
   "outputs": [],
   "source": [
    "traffic = sc.textFile(trafficpath)"
   ]
  },
  {
   "cell_type": "code",
   "execution_count": 6,
   "metadata": {},
   "outputs": [
    {
     "data": {
      "text/plain": [
       "[u'4/10/2005 0:00,-1',\n",
       " u'4/10/2005 0:05,-1',\n",
       " u'4/10/2005 0:10,-1',\n",
       " u'4/10/2005 0:15,-1',\n",
       " u'4/10/2005 0:20,-1']"
      ]
     },
     "execution_count": 6,
     "metadata": {},
     "output_type": "execute_result"
    }
   ],
   "source": [
    "traffic.take(5)"
   ]
  },
  {
   "cell_type": "code",
   "execution_count": 7,
   "metadata": {},
   "outputs": [
    {
     "data": {
      "text/plain": [
       "[u'04/12/05,13:10:00,16:23:00,55892,San Francisco,W 9-8\\ufffd',\n",
       " u'04/13/05,19:10:00,21:48:00,46514,San Francisco,W 4-1\\ufffd',\n",
       " u'04/15/05,19:40:00,21:48:00,51816,San Diego,W 4-0\\ufffd',\n",
       " u'04/16/05,19:10:00,21:52:00,54704,San Diego,W 8-3\\ufffd',\n",
       " u'04/17/05,13:10:00,15:31:00,53402,San Diego,W 6-0\\ufffd']"
      ]
     },
     "execution_count": 7,
     "metadata": {},
     "output_type": "execute_result"
    }
   ],
   "source": [
    "games = sc.textFile(gamespath)\n",
    "games.take(5)"
   ]
  },
  {
   "cell_type": "code",
   "execution_count": 8,
   "metadata": {
    "collapsed": true
   },
   "outputs": [],
   "source": [
    "from datetime import datetime\n",
    "import csv\n",
    "from StringIO import StringIO\n",
    "\n",
    "def parseTraffic(row):\n",
    "    DATE_FMT = \"%m/%d/%Y %H:%M\"\n",
    "    row = row.split(\",\")\n",
    "    row[0] = datetime.strptime(row[0], DATE_FMT)\n",
    "    row[1] = int(row[1])\n",
    "    \n",
    "    return (row[0], row[1])"
   ]
  },
  {
   "cell_type": "code",
   "execution_count": 10,
   "metadata": {},
   "outputs": [
    {
     "data": {
      "text/plain": [
       "[(datetime.datetime(2005, 4, 10, 0, 0), -1),\n",
       " (datetime.datetime(2005, 4, 10, 0, 5), -1),\n",
       " (datetime.datetime(2005, 4, 10, 0, 10), -1),\n",
       " (datetime.datetime(2005, 4, 10, 0, 15), -1),\n",
       " (datetime.datetime(2005, 4, 10, 0, 20), -1)]"
      ]
     },
     "execution_count": 10,
     "metadata": {},
     "output_type": "execute_result"
    }
   ],
   "source": [
    "#creating paired RDD\n",
    "trafficParsed = traffic.map(parseTraffic)\n",
    "trafficParsed.take(5)"
   ]
  },
  {
   "cell_type": "code",
   "execution_count": 11,
   "metadata": {
    "collapsed": true
   },
   "outputs": [],
   "source": [
    "# Summarizing daily trends\n",
    "dailyTrend = trafficParsed.map(lambda x : (x[0].date(), x[1]))\\\n",
    ".reduceByKey(lambda x,y : x + y)"
   ]
  },
  {
   "cell_type": "code",
   "execution_count": 12,
   "metadata": {},
   "outputs": [
    {
     "data": {
      "text/plain": [
       "[(datetime.date(2005, 8, 9), 5958),\n",
       " (datetime.date(2005, 6, 29), 5437),\n",
       " (datetime.date(2005, 8, 17), 6673),\n",
       " (datetime.date(2005, 9, 6), 6402),\n",
       " (datetime.date(2005, 5, 22), 4977)]"
      ]
     },
     "execution_count": 12,
     "metadata": {},
     "output_type": "execute_result"
    }
   ],
   "source": [
    "dailyTrend.take(5)"
   ]
  },
  {
   "cell_type": "code",
   "execution_count": 13,
   "metadata": {},
   "outputs": [
    {
     "data": {
      "text/plain": [
       "[(datetime.date(2005, 7, 28), 7661),\n",
       " (datetime.date(2005, 7, 29), 7499),\n",
       " (datetime.date(2005, 8, 12), 7287),\n",
       " (datetime.date(2005, 7, 27), 7238),\n",
       " (datetime.date(2005, 9, 23), 7175)]"
      ]
     },
     "execution_count": 13,
     "metadata": {},
     "output_type": "execute_result"
    }
   ],
   "source": [
    "dailyTrend.sortBy(lambda x : -x[1]).take(5)"
   ]
  },
  {
   "cell_type": "code",
   "execution_count": 14,
   "metadata": {
    "collapsed": true
   },
   "outputs": [],
   "source": [
    "# Joining with games\n",
    "\n",
    "def parseGames(row):\n",
    "    \n",
    "    DATE_FMT = \"%m/%d/%y\"\n",
    "    row = row.split(\",\")\n",
    "    row[0] = datetime.strptime(row[0], DATE_FMT).date()\n",
    "    \n",
    "    return (row[0], row[4])"
   ]
  },
  {
   "cell_type": "code",
   "execution_count": 15,
   "metadata": {},
   "outputs": [
    {
     "data": {
      "text/plain": [
       "[(datetime.date(2005, 4, 12), u'San Francisco'),\n",
       " (datetime.date(2005, 4, 13), u'San Francisco'),\n",
       " (datetime.date(2005, 4, 15), u'San Diego'),\n",
       " (datetime.date(2005, 4, 16), u'San Diego'),\n",
       " (datetime.date(2005, 4, 17), u'San Diego')]"
      ]
     },
     "execution_count": 15,
     "metadata": {},
     "output_type": "execute_result"
    }
   ],
   "source": [
    "gamesParsed = games.map(parseGames)\n",
    "gamesParsed.take(5)"
   ]
  },
  {
   "cell_type": "code",
   "execution_count": 17,
   "metadata": {},
   "outputs": [
    {
     "data": {
      "text/plain": [
       "[(datetime.date(2005, 9, 24), (5848, u'Pittsburgh')),\n",
       " (datetime.date(2005, 8, 11), (7110, u'Philadelphia')),\n",
       " (datetime.date(2005, 6, 21), (5759, None)),\n",
       " (datetime.date(2005, 5, 24), (4138, None)),\n",
       " (datetime.date(2005, 6, 13), (5974, None))]"
      ]
     },
     "execution_count": 17,
     "metadata": {},
     "output_type": "execute_result"
    }
   ],
   "source": [
    "dailyTrendCombined = dailyTrend.leftOuterJoin(gamesParsed)\n",
    "dailyTrendCombined.take(5)"
   ]
  },
  {
   "cell_type": "code",
   "execution_count": 19,
   "metadata": {},
   "outputs": [
    {
     "data": {
      "text/plain": [
       "[(datetime.date(2005, 9, 24), u'Pittsburgh', 'Game Day', 5848),\n",
       " (datetime.date(2005, 8, 11), u'Philadelphia', 'Game Day', 7110),\n",
       " (datetime.date(2005, 6, 21), None, 'Regular Day', 5759),\n",
       " (datetime.date(2005, 5, 24), None, 'Regular Day', 4138),\n",
       " (datetime.date(2005, 6, 13), None, 'Regular Day', 5974)]"
      ]
     },
     "execution_count": 19,
     "metadata": {},
     "output_type": "execute_result"
    }
   ],
   "source": [
    "def checkGameDay(row):\n",
    "    if row[1][1] == None:\n",
    "        return (row[0], row[1][1], \"Regular Day\", row[1][0])\n",
    "    else:\n",
    "        return (row[0], row[1][1], \"Game Day\", row[1][0])\n",
    "\n",
    "dailyTrendByGames = dailyTrendCombined.map(checkGameDay)\n",
    "dailyTrendByGames.take(5)"
   ]
  },
  {
   "cell_type": "code",
   "execution_count": 21,
   "metadata": {},
   "outputs": [
    {
     "data": {
      "text/plain": [
       "[(datetime.date(2005, 7, 28), u'Cincinnati', 'Game Day', 7661),\n",
       " (datetime.date(2005, 7, 29), u'St. Louis', 'Game Day', 7499),\n",
       " (datetime.date(2005, 8, 12), u'NY Mets', 'Game Day', 7287),\n",
       " (datetime.date(2005, 7, 27), u'Cincinnati', 'Game Day', 7238),\n",
       " (datetime.date(2005, 9, 23), u'Pittsburgh', 'Game Day', 7175),\n",
       " (datetime.date(2005, 7, 26), u'Cincinnati', 'Game Day', 7163),\n",
       " (datetime.date(2005, 5, 20), u'LA Angels', 'Game Day', 7119),\n",
       " (datetime.date(2005, 8, 11), u'Philadelphia', 'Game Day', 7110),\n",
       " (datetime.date(2005, 9, 8), None, 'Regular Day', 7107),\n",
       " (datetime.date(2005, 9, 7), u'San Francisco', 'Game Day', 7082)]"
      ]
     },
     "execution_count": 21,
     "metadata": {},
     "output_type": "execute_result"
    }
   ],
   "source": [
    "dailyTrendByGames.sortBy(lambda x : -x[3]).take(10)"
   ]
  },
  {
   "cell_type": "code",
   "execution_count": 22,
   "metadata": {},
   "outputs": [
    {
     "data": {
      "text/plain": [
       "[('Game Day', 5948), ('Regular Day', 5411)]"
      ]
     },
     "execution_count": 22,
     "metadata": {},
     "output_type": "execute_result"
    }
   ],
   "source": [
    "# Average on Game Day vs Non Game Day\n",
    "\n",
    "dailyTrendByGames.map(lambda x : (x[2], x[3]))\\\n",
    ".combineByKey(lambda value : (value,1), \\\n",
    "             lambda acc, value : (value + acc[0], acc[1] + 1),\\\n",
    "             lambda acc1, acc2 : (acc1[0] + acc2[0], acc1[1] + acc2[1]))\\\n",
    ".mapValues(lambda x : x[0] / x[1])\\\n",
    ".collect()"
   ]
  }
 ],
 "metadata": {
  "kernelspec": {
   "display_name": "Python 2",
   "language": "python",
   "name": "python2"
  },
  "language_info": {
   "codemirror_mode": {
    "name": "ipython",
    "version": 2
   },
   "file_extension": ".py",
   "mimetype": "text/x-python",
   "name": "python",
   "nbconvert_exporter": "python",
   "pygments_lexer": "ipython2",
   "version": "2.7.13"
  }
 },
 "nbformat": 4,
 "nbformat_minor": 2
}
